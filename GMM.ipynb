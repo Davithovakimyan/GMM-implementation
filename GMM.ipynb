{
 "cells": [
  {
   "cell_type": "code",
   "execution_count": null,
   "metadata": {},
   "outputs": [],
   "source": [
    "from sklearn.cluster import KMeans"
   ]
  },
  {
   "cell_type": "code",
   "execution_count": null,
   "metadata": {},
   "outputs": [],
   "source": [
    "import numpy as np\n",
    "from scipy.stats import multivariate_normal"
   ]
  },
  {
   "cell_type": "code",
   "execution_count": null,
   "metadata": {},
   "outputs": [],
   "source": [
    "class GMM:\n",
    "    def __init__(self, k, method='random_mean_std', max_iter=300, tol=1e-6):\n",
    "        self.k = k \n",
    "        self.method = method\n",
    "        self.max_iter = max_iter\n",
    "        self.tol=tol\n",
    "    \n",
    "    def init_centers(self, X):\n",
    "        if self.method == 'random_mean_std':\n",
    "            pass \n",
    "        if self.method == 'random_mean':\n",
    "            pass\n",
    "        if self.method == 'k-means':\n",
    "            kmeans = KMeans(n_clusters = self.k)\n",
    "            kmeans.fit(X)\n",
    "            clusters = kmeans.predict(X)\n",
    "            mean_arr = kmeans.cluster_centers_\n",
    "            cov_arr = []\n",
    "            pi_arr = []\n",
    "            for i in range(self.k):\n",
    "                X_i = X[clusters==i]\n",
    "                cov_arr.append(np.cov(X_i.T))\n",
    "                pi_arr.append(X_i.shape[0]/X.shape[0])\n",
    "            return mean_arr, np.array(cov_arr), np.array(pi_arr)\n",
    "    \n",
    "        if self.method == 'random_divide':\n",
    "            pass\n",
    "        if self.method == 'random_gammas':\n",
    "            pass \n",
    "        \n",
    "\n",
    "    def fit(self, X):\n",
    "        self.mean_arr, self.cov_arr, self.pi_arr = self.init_centers(X)\n",
    "        self._loss = self.loss(X,self.mean_arr,self.cov_arr,self.pi_arr)\n",
    "        for _ in range(self.max_iter):\n",
    "            gamma_mtrx = self.expectation(X)\n",
    "            mean_arr, cov_arr, pi_arr = self.maximization(X, gamma_mtrx)\n",
    "            loss = self.loss(X,mean_arr,cov_arr,pi_arr)\n",
    "            if loss+self.tol==self._loss: # add tolerance comparison\n",
    "                break\n",
    "            self._loss=loss\n",
    "            self.mean_arr = mean_arr\n",
    "            self.cov_arr = cov_arr\n",
    "            self.pi_arr = pi_arr\n",
    "    \n",
    "        \n",
    "    def loss(self, X, mean, cov, pi):\n",
    "        liklehood=0\n",
    "        for i in range(X.shape[0]):\n",
    "            for j in range(self.k):\n",
    "                liklehood+=np.log(self.pi_arr[j]*self.pdf(X[i],self.mean_arr[j],self.cov_arr[j]))    \n",
    "        return -(liklehood/x.shape[0])\n",
    "    \n",
    "    def pdf(self, x, mean, cov):\n",
    "        proba=multivariate_normal(mean,cov)\n",
    "        return proba.pdf(x)\n",
    "            \n",
    "    def expectation(self, X):\n",
    "        gamma_mtrx = np.zeros((X.shape[0], self.k))\n",
    "        for i, x in enumerate(X):\n",
    "            for j in range(self.k):\n",
    "                gamma_mtrx[i][j] = self.pi_arr[j] * self.pdf(x, self.mean_arr[j], self.cov_arr[j])\n",
    "            gamma_mtrx[i] = gamma_mtrx[i] / gamma_mtrx[i].sum()\n",
    "            \n",
    "        return gamma_mtrx\n",
    "\n",
    "    def maximization(self, X,Y):\n",
    "        mean_arr=np.zeros((self.k,X.shape[1]))\n",
    "        covariances = np.zeros((self.k, X.shape[1], X.shape[1]))\n",
    "        for i in range(self.k):\n",
    "            covariances[i] = np.eye(X.shape[1])\n",
    "        \n",
    "        pi_arr=np.zeros(self.k)\n",
    "        for i in range(self.k):\n",
    "            m_c=np.sum(Y[:,i])\n",
    "            pi_arr[i]=m_c/X.shape[0]\n",
    "            mean_arr[i]=np.sum(Y[:,i].reshape(-1,1)*X,axis=0)/m_c\n",
    "            centers=X-mean_arr[i]\n",
    "            covariances[i]=np.dot((Y[:,i].reshape(-1,1)*centers).T,centers)/m_c\n",
    "                \n",
    "            \n",
    "        return mean_arr,covariances,pi_arr\n",
    "        \n",
    "    def predict(self, X):\n",
    "        matrix=np.zeros((X.shape[0],self.k)) \n",
    "        for i in range(self.k):\n",
    "            matrix[:,i]=np.log(self.pi_arr[i]+self.pdf(X,self.mean_arr[i],self.cov_arr[i]))\n",
    "        \n",
    "        return np.argmax(matrix,axis=1)\n",
    "    \n",
    "    def predict_proba(self, X):\n",
    "        proba=self.expectation(X)\n",
    "        return proba "
   ]
  },
  {
   "cell_type": "code",
   "execution_count": null,
   "metadata": {},
   "outputs": [],
   "source": [
    "from sklearn.datasets import make_blobs"
   ]
  },
  {
   "cell_type": "code",
   "execution_count": null,
   "metadata": {},
   "outputs": [],
   "source": [
    "x,y=make_blobs(centers=2)"
   ]
  },
  {
   "cell_type": "code",
   "execution_count": null,
   "metadata": {},
   "outputs": [],
   "source": [
    "model=GMM(2,'k-means')"
   ]
  },
  {
   "cell_type": "code",
   "execution_count": null,
   "metadata": {},
   "outputs": [],
   "source": [
    "model.fit(x)"
   ]
  },
  {
   "cell_type": "code",
   "execution_count": null,
   "metadata": {},
   "outputs": [],
   "source": [
    "model.predict(x)"
   ]
  },
  {
   "cell_type": "code",
   "execution_count": 1,
   "metadata": {},
   "outputs": [],
   "source": [
    "import os"
   ]
  },
  {
   "cell_type": "code",
   "execution_count": 2,
   "metadata": {},
   "outputs": [
    {
     "data": {
      "text/plain": [
       "'C:\\\\Users\\\\User\\\\ACA\\\\Gausian mixture models'"
      ]
     },
     "execution_count": 2,
     "metadata": {},
     "output_type": "execute_result"
    }
   ],
   "source": [
    "os.getcwd()"
   ]
  },
  {
   "cell_type": "code",
   "execution_count": null,
   "metadata": {},
   "outputs": [],
   "source": []
  }
 ],
 "metadata": {
  "kernelspec": {
   "display_name": "Python 3 (ipykernel)",
   "language": "python",
   "name": "python3"
  },
  "language_info": {
   "codemirror_mode": {
    "name": "ipython",
    "version": 3
   },
   "file_extension": ".py",
   "mimetype": "text/x-python",
   "name": "python",
   "nbconvert_exporter": "python",
   "pygments_lexer": "ipython3",
   "version": "3.9.7"
  }
 },
 "nbformat": 4,
 "nbformat_minor": 4
}
